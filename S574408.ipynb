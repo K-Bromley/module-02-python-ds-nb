{
 "cells": [
  {
   "cell_type": "markdown",
   "metadata": {},
   "source": [
    "# Kelly Bromley\n",
    "[Project 2 - Employ Python Data Structures, Notebooks & Engage](https://github.com/K-Bromley/module-02-python-ds-nb)"
   ]
  },
  {
   "cell_type": "code",
   "execution_count": 3,
   "metadata": {},
   "outputs": [
    {
     "name": "stdout",
     "output_type": "stream",
     "text": [
      "*      *\n",
      "**    **\n",
      "***  ***\n",
      "********\n"
     ]
    }
   ],
   "source": [
    "# Establish rows in the  pattern\n",
    "rows = 4\n",
    "\n",
    "# Making Pattern\n",
    "for i in range(1, rows + 1):\n",
    "    # Left Stars\n",
    "    print('*' * i, end='')\n",
    "    \n",
    "    # Middle Spaces\n",
    "    print(' ' * (2 * (rows - i)), end='')\n",
    "    \n",
    "    # Right Stars\n",
    "    print('*' * i)"
   ]
  },
  {
   "cell_type": "markdown",
   "metadata": {},
   "source": [
    "### Converting to HTML"
   ]
  },
  {
   "cell_type": "code",
   "execution_count": 4,
   "metadata": {},
   "outputs": [
    {
     "name": "stdout",
     "output_type": "stream",
     "text": [
      "[NbConvertApp] Converting notebook S574408.ipynb to html\n",
      "[NbConvertApp] Writing 273030 bytes to S574408.html\n"
     ]
    }
   ],
   "source": [
    "!jupyter nbconvert --to html S574408.ipynb"
   ]
  }
 ],
 "metadata": {
  "kernelspec": {
   "display_name": "Python 3",
   "language": "python",
   "name": "python3"
  },
  "language_info": {
   "codemirror_mode": {
    "name": "ipython",
    "version": 3
   },
   "file_extension": ".py",
   "mimetype": "text/x-python",
   "name": "python",
   "nbconvert_exporter": "python",
   "pygments_lexer": "ipython3",
   "version": "3.12.3"
  }
 },
 "nbformat": 4,
 "nbformat_minor": 2
}
